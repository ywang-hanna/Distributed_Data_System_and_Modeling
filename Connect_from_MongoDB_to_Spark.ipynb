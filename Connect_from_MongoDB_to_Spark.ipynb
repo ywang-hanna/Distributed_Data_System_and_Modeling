{
 "cells": [
  {
   "cell_type": "markdown",
   "metadata": {},
   "source": [
    "## In SageMaker, you might need to configure to load the mongo-spark-connector package and kernel."
   ]
  },
  {
   "cell_type": "code",
   "execution_count": 1,
   "metadata": {},
   "outputs": [],
   "source": [
    "import os\n",
    "pyspark_submit_args = '--packages org.mongodb.spark:mongo-spark-connector_2.11:2.4.0 pyspark-shell'\n",
    "os.environ[\"PYSPARK_SUBMIT_ARGS\"] = pyspark_submit_args"
   ]
  },
  {
   "cell_type": "code",
   "execution_count": 2,
   "metadata": {},
   "outputs": [],
   "source": [
    "from pyspark.sql import SparkSession\n",
    "\n",
    "spark = SparkSession \\\n",
    "    .builder \\\n",
    "    .appName(\"myApp\") \\\n",
    "    .config(\"spark.mongodb.input.uri\", \"mongodb://127.0.0.1/msds694.business\")\\\n",
    "    .getOrCreate()"
   ]
  },
  {
   "cell_type": "code",
   "execution_count": 3,
   "metadata": {},
   "outputs": [],
   "source": [
    "df = spark.read.format(\"com.mongodb.spark.sql.DefaultSource\").load()"
   ]
  },
  {
   "cell_type": "code",
   "execution_count": 4,
   "metadata": {},
   "outputs": [
    {
     "name": "stdout",
     "output_type": "stream",
     "text": [
      "root\n",
      " |-- _id: struct (nullable = true)\n",
      " |    |-- oid: string (nullable = true)\n",
      " |-- address: struct (nullable = true)\n",
      " |    |-- building: string (nullable = true)\n",
      " |    |-- coord: array (nullable = true)\n",
      " |    |    |-- element: double (containsNull = true)\n",
      " |    |-- street: string (nullable = true)\n",
      " |    |-- zipcode: string (nullable = true)\n",
      " |-- borough: string (nullable = true)\n",
      " |-- cuisine: string (nullable = true)\n",
      " |-- grades: array (nullable = true)\n",
      " |    |-- element: struct (containsNull = true)\n",
      " |    |    |-- date: timestamp (nullable = true)\n",
      " |    |    |-- grade: string (nullable = true)\n",
      " |    |    |-- score: integer (nullable = true)\n",
      " |-- name: string (nullable = true)\n",
      " |-- restaurant_id: string (nullable = true)\n",
      "\n"
     ]
    }
   ],
   "source": [
    "df.printSchema()"
   ]
  },
  {
   "cell_type": "code",
   "execution_count": 5,
   "metadata": {
    "scrolled": true
   },
   "outputs": [
    {
     "name": "stdout",
     "output_type": "stream",
     "text": [
      "+--------------------+--------------------+-------------+--------------------+--------------------+--------------------+-------------+\n",
      "|                 _id|             address|      borough|             cuisine|              grades|                name|restaurant_id|\n",
      "+--------------------+--------------------+-------------+--------------------+--------------------+--------------------+-------------+\n",
      "|[5c38287f4b3ff46d...|[469, [-73.961704...|     Brooklyn|          Hamburgers|[[2014-12-29 16:0...|             Wendy'S|     30112340|\n",
      "|[5c38287f4b3ff46d...|[7114, [-73.90685...|     Brooklyn|        Delicatessen|[[2014-05-28 17:0...|  Wilken'S Fine Food|     40356483|\n",
      "|[5c38287f4b3ff46d...|[97-22, [-73.8601...|       Queens|       Jewish/Kosher|[[2014-11-23 16:0...|  Tov Kosher Kitchen|     40356068|\n",
      "|[5c38287f4b3ff46d...|[351, [-73.985135...|    Manhattan|               Irish|[[2014-09-05 17:0...|Dj Reynolds Pub A...|     30191841|\n",
      "|[5c38287f4b3ff46d...|[8825, [-73.88038...|       Queens|           American |[[2014-11-14 16:0...|Brunos On The Bou...|     40356151|\n",
      "|[5c38287f4b3ff46d...|[1007, [-73.85607...|        Bronx|              Bakery|[[2014-03-02 16:0...|Morris Park Bake ...|     30075445|\n",
      "|[5c38287f4b3ff46d...|[2300, [-73.87861...|        Bronx|           American |[[2014-05-27 17:0...|           Wild Asia|     40357217|\n",
      "|[5c38287f4b3ff46d...|[7715, [-73.99733...|     Brooklyn|           American |[[2014-04-15 17:0...|C & C Catering Se...|     40357437|\n",
      "|[5c38287f4b3ff46d...|[1839, [-73.94826...|     Brooklyn|Ice Cream, Gelato...|[[2014-07-13 17:0...|Taste The Tropics...|     40356731|\n",
      "|[5c38287f4b3ff46d...|[6409, [-74.00528...|     Brooklyn|           American |[[2014-07-17 17:0...|     Regina Caterers|     40356649|\n",
      "|[5c38287f4b3ff46d...|[2780, [-73.98241...|     Brooklyn|           American |[[2014-06-09 17:0...|     Riviera Caterer|     40356018|\n",
      "|[5c38287f4b3ff46d...|[1269, [-73.87119...|     Brooklyn|             Chinese|[[2014-09-15 17:0...|     May May Kitchen|     40358429|\n",
      "|[5c38287f4b3ff46d...|[2206, [-74.13772...|Staten Island|       Jewish/Kosher|[[2014-10-05 17:0...|       Kosher Island|     40356442|\n",
      "|[5c38287f4b3ff46d...|[1, [-73.96926909...|    Manhattan|           American |[[2014-05-06 17:0...|1 East 66Th Stree...|     40359480|\n",
      "|[5c38287f4b3ff46d...|[705, [-73.965396...|     Brooklyn|       Jewish/Kosher|[[2014-11-09 16:0...|         Seuda Foods|     40360045|\n",
      "|[5c38287f4b3ff46d...|[203, [-73.978220...|     Brooklyn|Ice Cream, Gelato...|[[2014-02-09 16:0...|    Carvel Ice Cream|     40360076|\n",
      "|[5c38287f4b3ff46d...|[265-15, [-73.703...|       Queens|Ice Cream, Gelato...|[[2014-10-27 17:0...|    Carvel Ice Cream|     40361322|\n",
      "|[5c38287f4b3ff46d...|[6909, [-74.02595...|     Brooklyn|        Delicatessen|[[2014-08-20 17:0...|   Nordic Delicacies|     40361390|\n",
      "|[5c38287f4b3ff46d...|[522, [-73.95171,...|    Manhattan|           American |[[2014-09-01 17:0...|       Glorious Food|     40361521|\n",
      "|[5c38287f4b3ff46d...|[759, [-73.992530...|    Manhattan|        Delicatessen|[[2014-01-20 16:0...|        Bully'S Deli|     40361708|\n",
      "+--------------------+--------------------+-------------+--------------------+--------------------+--------------------+-------------+\n",
      "only showing top 20 rows\n",
      "\n"
     ]
    }
   ],
   "source": [
    "df.show()"
   ]
  },
  {
   "cell_type": "code",
   "execution_count": null,
   "metadata": {},
   "outputs": [],
   "source": []
  }
 ],
 "metadata": {
  "kernelspec": {
   "display_name": "Python 3",
   "language": "python",
   "name": "python3"
  },
  "language_info": {
   "codemirror_mode": {
    "name": "ipython",
    "version": 3
   },
   "file_extension": ".py",
   "mimetype": "text/x-python",
   "name": "python",
   "nbconvert_exporter": "python",
   "pygments_lexer": "ipython3",
   "version": "3.6.6"
  },
  "varInspector": {
   "cols": {
    "lenName": 16,
    "lenType": 16,
    "lenVar": 40
   },
   "kernels_config": {
    "python": {
     "delete_cmd_postfix": "",
     "delete_cmd_prefix": "del ",
     "library": "var_list.py",
     "varRefreshCmd": "print(var_dic_list())"
    },
    "r": {
     "delete_cmd_postfix": ") ",
     "delete_cmd_prefix": "rm(",
     "library": "var_list.r",
     "varRefreshCmd": "cat(var_dic_list()) "
    }
   },
   "types_to_exclude": [
    "module",
    "function",
    "builtin_function_or_method",
    "instance",
    "_Feature"
   ],
   "window_display": false
  }
 },
 "nbformat": 4,
 "nbformat_minor": 2
}
